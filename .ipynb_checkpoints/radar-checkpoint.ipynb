{
 "cells": [
  {
   "cell_type": "markdown",
   "metadata": {},
   "source": [
    "## Project Radar"
   ]
  },
  {
   "cell_type": "markdown",
   "metadata": {},
   "source": [
    "This document contains current thinking around project Radar. "
   ]
  },
  {
   "cell_type": "markdown",
   "metadata": {
    "heading_collapsed": true
   },
   "source": [
    "###### Import Dependencies "
   ]
  },
  {
   "cell_type": "code",
   "execution_count": 1,
   "metadata": {
    "collapsed": true,
    "hidden": true
   },
   "outputs": [],
   "source": [
    "import pandas as pd \n",
    "import numpy as np \n",
    "import os \n",
    "import requests "
   ]
  },
  {
   "cell_type": "code",
   "execution_count": null,
   "metadata": {
    "collapsed": true,
    "hidden": true
   },
   "outputs": [],
   "source": []
  },
  {
   "cell_type": "markdown",
   "metadata": {},
   "source": [
    "### Overview"
   ]
  },
  {
   "cell_type": "markdown",
   "metadata": {
    "heading_collapsed": true
   },
   "source": [
    "#### Generic Motivation"
   ]
  },
  {
   "cell_type": "markdown",
   "metadata": {
    "hidden": true
   },
   "source": [
    "We are given *some* transactional data. Transactional data are interesting in nature. They can be studied  to understant certain behavioural profiles of the clients. "
   ]
  },
  {
   "cell_type": "markdown",
   "metadata": {
    "hidden": true
   },
   "source": [
    "1. #total transactions -- 1807920587\n",
    "2. #transactions with either Citi as sender or Citi as bene bank. -- 1630665952\n",
    "        a. Citi as sender -- 629944895\n",
    "        b. Citi as beneficiary -- 914241689\n",
    "3. #transactions with both sender and bene as Non-Citi --  177254635"
   ]
  },
  {
   "cell_type": "markdown",
   "metadata": {
    "hidden": true
   },
   "source": [
    "- Citi ----- Citi \n",
    "- Citi ----- Non-Citi \n",
    "- Non-Citi ----- Citi \n",
    "- Non-Citi ----- Non-Citi "
   ]
  },
  {
   "cell_type": "markdown",
   "metadata": {
    "hidden": true
   },
   "source": [
    "- icggfatn_managed\n",
    "- l4_txn_coredataset"
   ]
  },
  {
   "cell_type": "markdown",
   "metadata": {
    "heading_collapsed": true
   },
   "source": [
    "#### Sql queries"
   ]
  },
  {
   "cell_type": "markdown",
   "metadata": {
    "hidden": true
   },
   "source": [
    "Query to get initial partition of the dataset"
   ]
  },
  {
   "cell_type": "raw",
   "metadata": {
    "hidden": true
   },
   "source": [
    "select count(*) from l4_txn_coredataset where l4_txn_coredataset.send_bank_flow_type = 'Citi' and l4_txn_coredataset.bene_bank_flow_type = 'Citi';"
   ]
  },
  {
   "cell_type": "raw",
   "metadata": {
    "hidden": true
   },
   "source": [
    "select count(*) from l4_txn_coredataset where l4_txn_coredataset.send_bank_flow_type = 'Non-Citi' and l4_txn_coredataset.bene_bank_flow_type = 'Citi';"
   ]
  },
  {
   "cell_type": "raw",
   "metadata": {
    "hidden": true
   },
   "source": [
    "select count(*) from l4_txn_coredataset where l4_txn_coredataset.send_bank_flow_type = 'Citi' and l4_txn_coredataset.bene_bank_flow_type = 'Non-Citi';"
   ]
  },
  {
   "cell_type": "markdown",
   "metadata": {
    "heading_collapsed": true
   },
   "source": [
    "#### Sanity Checks"
   ]
  },
  {
   "cell_type": "code",
   "execution_count": 19,
   "metadata": {
    "hidden": true
   },
   "outputs": [
    {
     "name": "stdout",
     "output_type": "stream",
     "text": [
      "total transactions equals to citi and non-citi transactions:  True\n",
      "Different types of Citi transactions:  True\n"
     ]
    }
   ],
   "source": [
    "total_transactions = 1807920587\n",
    "citi_transactions = 1630665952\n",
    "nonciti_transactions = 177254635 \n",
    "\n",
    "\n",
    "print('total transactions equals to citi and non-citi transactions: ',total_transactions == citi_transactions + nonciti_transactions)\n",
    "\n",
    "citi_sender = 629944895\n",
    "citi_beneficiary = 914241689\n",
    "citi_sender_beneficiary = 86479368\n",
    "\n",
    "print('Different types of Citi transactions: ', citi_transactions == (citi_sender + citi_bene + citi_sender_beneficiary))"
   ]
  },
  {
   "cell_type": "markdown",
   "metadata": {},
   "source": [
    "#### Data Analysis"
   ]
  },
  {
   "cell_type": "markdown",
   "metadata": {
    "heading_collapsed": true
   },
   "source": [
    "##### Get all the distinct transaction id's "
   ]
  },
  {
   "cell_type": "raw",
   "metadata": {
    "hidden": true
   },
   "source": [
    "## 1707213989\n",
    "select count(distinct(l4_txn_coredataset.txn_id))\n",
    "from l4_txn_coredataset ;"
   ]
  },
  {
   "cell_type": "markdown",
   "metadata": {},
   "source": [
    "##### Flow Analysis "
   ]
  },
  {
   "cell_type": "markdown",
   "metadata": {},
   "source": [
    "Get all the distinct country pairs and their number of transaction"
   ]
  },
  {
   "cell_type": "raw",
   "metadata": {},
   "source": [
    "select l4_txn_coredataset.send_bank_ctry_code, l4_txn_coredataset.bene_bank_ctry_code, count(*) as txn_count\n",
    "from l4_txn_coredataset\n",
    "group by l4_txn_coredataset.send_bank_ctry_code, l4_txn_coredataset.bene_bank_ctry_code ;"
   ]
  },
  {
   "cell_type": "code",
   "execution_count": 2,
   "metadata": {
    "collapsed": true
   },
   "outputs": [],
   "source": [
    "def getCoordinates(country, url = 'https://maps.googleapis.com/maps/api/geocode/json' ):\n",
    "    \n",
    "    params = {'sensor': 'false', 'address': country}\n",
    "    r = requests.get(url, params=params)\n",
    "    results = r.json()['results']\n",
    "    if(len(results) == 0):\n",
    "            ##retry\n",
    "            #print('retrying')\n",
    "            return getCoordinates(country)\n",
    "    else:\n",
    "        return results[0]['geometry']['location']"
   ]
  },
  {
   "cell_type": "code",
   "execution_count": 3,
   "metadata": {},
   "outputs": [
    {
     "data": {
      "text/plain": [
       "'D:\\\\gfa\\\\code'"
      ]
     },
     "execution_count": 3,
     "metadata": {},
     "output_type": "execute_result"
    }
   ],
   "source": [
    "os.getcwd()"
   ]
  },
  {
   "cell_type": "code",
   "execution_count": 4,
   "metadata": {
    "collapsed": true
   },
   "outputs": [],
   "source": [
    "cp = pd.read_csv(os.path.join(os.getcwd(), 'cp.csv'));"
   ]
  },
  {
   "cell_type": "code",
   "execution_count": 5,
   "metadata": {},
   "outputs": [
    {
     "data": {
      "text/html": [
       "<div>\n",
       "<style>\n",
       "    .dataframe thead tr:only-child th {\n",
       "        text-align: right;\n",
       "    }\n",
       "\n",
       "    .dataframe thead th {\n",
       "        text-align: left;\n",
       "    }\n",
       "\n",
       "    .dataframe tbody tr th {\n",
       "        vertical-align: top;\n",
       "    }\n",
       "</style>\n",
       "<table border=\"1\" class=\"dataframe\">\n",
       "  <thead>\n",
       "    <tr style=\"text-align: right;\">\n",
       "      <th></th>\n",
       "      <th>l4_txn_coredataset.send_bank_ctry_code</th>\n",
       "      <th>l4_txn_coredataset.bene_bank_ctry_code</th>\n",
       "      <th>txn_count</th>\n",
       "    </tr>\n",
       "  </thead>\n",
       "  <tbody>\n",
       "    <tr>\n",
       "      <th>0</th>\n",
       "      <td>NaN</td>\n",
       "      <td>NaN</td>\n",
       "      <td>137723</td>\n",
       "    </tr>\n",
       "    <tr>\n",
       "      <th>1</th>\n",
       "      <td>NaN</td>\n",
       "      <td>DZ</td>\n",
       "      <td>2262</td>\n",
       "    </tr>\n",
       "    <tr>\n",
       "      <th>2</th>\n",
       "      <td>AG</td>\n",
       "      <td>JO</td>\n",
       "      <td>4</td>\n",
       "    </tr>\n",
       "    <tr>\n",
       "      <th>3</th>\n",
       "      <td>AM</td>\n",
       "      <td>DO</td>\n",
       "      <td>13</td>\n",
       "    </tr>\n",
       "    <tr>\n",
       "      <th>4</th>\n",
       "      <td>AO</td>\n",
       "      <td>BO</td>\n",
       "      <td>10</td>\n",
       "    </tr>\n",
       "  </tbody>\n",
       "</table>\n",
       "</div>"
      ],
      "text/plain": [
       "  l4_txn_coredataset.send_bank_ctry_code  \\\n",
       "0                                    NaN   \n",
       "1                                    NaN   \n",
       "2                                     AG   \n",
       "3                                     AM   \n",
       "4                                     AO   \n",
       "\n",
       "  l4_txn_coredataset.bene_bank_ctry_code  txn_count  \n",
       "0                                    NaN     137723  \n",
       "1                                     DZ       2262  \n",
       "2                                     JO          4  \n",
       "3                                     DO         13  \n",
       "4                                     BO         10  "
      ]
     },
     "execution_count": 5,
     "metadata": {},
     "output_type": "execute_result"
    }
   ],
   "source": [
    "cp.head()"
   ]
  },
  {
   "cell_type": "code",
   "execution_count": null,
   "metadata": {
    "collapsed": true
   },
   "outputs": [],
   "source": []
  },
  {
   "cell_type": "markdown",
   "metadata": {
    "heading_collapsed": true
   },
   "source": [
    "#### Data Prepration"
   ]
  },
  {
   "cell_type": "raw",
   "metadata": {
    "hidden": true
   },
   "source": [
    "##query for time taken for a transaction by source system name and \n",
    "select l4_txn_coredataset.source_system_name, \n",
    "       l4_txn_coredataset.txn_type,\n",
    "       l4_txn_coredataset.booking_date, \n",
    "       l4_txn_coredataset.value_date,\n",
    "       datediff(l4_txn_coredataset.booking_date, l4_txn_coredataset.value_date) as timetoclear  \n",
    "       l4_txn_coredataset.send_bank_flow_type,\n",
    "       l4_txn_coredataset.bene_bank_flow_type\n",
    "       \n",
    "from l4_txn_coredataset\n",
    "limit 10;"
   ]
  },
  {
   "cell_type": "code",
   "execution_count": null,
   "metadata": {
    "collapsed": true,
    "hidden": true
   },
   "outputs": [],
   "source": []
  }
 ],
 "metadata": {
  "kernelspec": {
   "display_name": "Python 3",
   "language": "python",
   "name": "python3"
  },
  "language_info": {
   "codemirror_mode": {
    "name": "ipython",
    "version": 3
   },
   "file_extension": ".py",
   "mimetype": "text/x-python",
   "name": "python",
   "nbconvert_exporter": "python",
   "pygments_lexer": "ipython3",
   "version": "3.5.4"
  }
 },
 "nbformat": 4,
 "nbformat_minor": 2
}
